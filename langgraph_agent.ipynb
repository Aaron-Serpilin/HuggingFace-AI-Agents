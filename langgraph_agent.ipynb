{
 "cells": [
  {
   "cell_type": "markdown",
   "id": "f1123aad",
   "metadata": {},
   "source": [
    "# Langgraph Agent"
   ]
  },
  {
   "cell_type": "code",
   "execution_count": 11,
   "id": "e624c74a",
   "metadata": {},
   "outputs": [
    {
     "name": "stdout",
     "output_type": "stream",
     "text": [
      "total 96\n",
      "drwxr-xr-x@ 12 aaronserpilin  staff    384 Oct  7 15:03 \u001b[34m.\u001b[m\u001b[m\n",
      "drwxr-xr-x  17 aaronserpilin  staff    544 Oct  7 15:03 \u001b[34m..\u001b[m\u001b[m\n",
      "-rw-r--r--@  1 aaronserpilin  staff    501 Oct  7 14:12 .env\n",
      "drwxr-xr-x@ 14 aaronserpilin  staff    448 Oct  7 14:25 \u001b[34m.git\u001b[m\u001b[m\n",
      "-rw-r--r--@  1 aaronserpilin  staff     24 Oct  3 15:45 .gitignore\n",
      "drwxr-xr-x@  6 aaronserpilin  staff    192 Oct  3 15:20 \u001b[34m.venv\u001b[m\u001b[m\n",
      "-rw-r--r--@  1 aaronserpilin  staff    301 Oct  3 14:17 README.md\n",
      "drwxr-xr-x@  3 aaronserpilin  staff     96 Oct  3 15:44 \u001b[34mcertificates\u001b[m\u001b[m\n",
      "-rw-r--r--@  1 aaronserpilin  staff  10997 Oct  7 13:48 dummy_agent_library.ipynb\n",
      "drwxr-xr-x@ 13 aaronserpilin  staff    416 Oct  3 16:58 \u001b[34mfirst_agent_template\u001b[m\u001b[m\n",
      "-rw-r--r--@  1 aaronserpilin  staff   7667 Oct  7 15:03 langgraph_agent.ipynb\n",
      "-rw-r--r--@  1 aaronserpilin  staff  13275 Oct  7 14:41 langgraph_mail_sorting.ipynb\n",
      "usage: conda [-h] [-v] [--no-plugins] [-V] COMMAND ...\n",
      "conda: error: argument COMMAND: invalid choice: 'deactivate' (choose from 'clean', 'compare', 'config', 'create', 'info', 'init', 'install', 'list', 'notices', 'package', 'remove', 'uninstall', 'rename', 'run', 'search', 'update', 'upgrade', 'build', 'convert', 'debug', 'develop', 'doctor', 'index', 'inspect', 'metapackage', 'render', 'skeleton', 'content-trust', 'verify', 'pack', 'token', 'env', 'server', 'repo')\n"
     ]
    }
   ],
   "source": [
    "!python -m venv .venv\n",
    "!ls -la\n",
    "!source .venv/bin/activate\n",
    "!conda deactivate\n",
    "!source .env"
   ]
  },
  {
   "cell_type": "code",
   "execution_count": 12,
   "id": "e6772293",
   "metadata": {},
   "outputs": [
    {
     "name": "stdout",
     "output_type": "stream",
     "text": [
      "Requirement already satisfied: langgraph in /Users/aaronserpilin/anaconda3/lib/python3.11/site-packages (0.6.8)\n",
      "Requirement already satisfied: langchain_openai in /Users/aaronserpilin/anaconda3/lib/python3.11/site-packages (0.3.34)\n",
      "Requirement already satisfied: langchain_core in /Users/aaronserpilin/anaconda3/lib/python3.11/site-packages (0.3.77)\n",
      "Requirement already satisfied: langgraph-checkpoint<3.0.0,>=2.1.0 in /Users/aaronserpilin/anaconda3/lib/python3.11/site-packages (from langgraph) (2.1.1)\n",
      "Requirement already satisfied: langgraph-prebuilt<0.7.0,>=0.6.0 in /Users/aaronserpilin/anaconda3/lib/python3.11/site-packages (from langgraph) (0.6.4)\n",
      "Requirement already satisfied: langgraph-sdk<0.3.0,>=0.2.2 in /Users/aaronserpilin/anaconda3/lib/python3.11/site-packages (from langgraph) (0.2.9)\n",
      "Requirement already satisfied: pydantic>=2.7.4 in /Users/aaronserpilin/anaconda3/lib/python3.11/site-packages (from langgraph) (2.11.7)\n",
      "Requirement already satisfied: xxhash>=3.5.0 in /Users/aaronserpilin/anaconda3/lib/python3.11/site-packages (from langgraph) (3.6.0)\n",
      "Requirement already satisfied: openai<3.0.0,>=1.104.2 in /Users/aaronserpilin/anaconda3/lib/python3.11/site-packages (from langchain_openai) (2.1.0)\n",
      "Requirement already satisfied: tiktoken<1.0.0,>=0.7.0 in /Users/aaronserpilin/anaconda3/lib/python3.11/site-packages (from langchain_openai) (0.11.0)\n",
      "Requirement already satisfied: langsmith<1.0.0,>=0.3.45 in /Users/aaronserpilin/anaconda3/lib/python3.11/site-packages (from langchain_core) (0.4.32)\n",
      "Requirement already satisfied: tenacity!=8.4.0,<10.0.0,>=8.1.0 in /Users/aaronserpilin/anaconda3/lib/python3.11/site-packages (from langchain_core) (8.2.2)\n",
      "Requirement already satisfied: jsonpatch<2.0.0,>=1.33.0 in /Users/aaronserpilin/anaconda3/lib/python3.11/site-packages (from langchain_core) (1.33)\n",
      "Requirement already satisfied: PyYAML<7.0.0,>=5.3.0 in /Users/aaronserpilin/anaconda3/lib/python3.11/site-packages (from langchain_core) (6.0)\n",
      "Requirement already satisfied: typing-extensions<5.0.0,>=4.7.0 in /Users/aaronserpilin/anaconda3/lib/python3.11/site-packages (from langchain_core) (4.14.1)\n",
      "Requirement already satisfied: packaging<26.0.0,>=23.2.0 in /Users/aaronserpilin/anaconda3/lib/python3.11/site-packages (from langchain_core) (25.0)\n",
      "Requirement already satisfied: jsonpointer>=1.9 in /Users/aaronserpilin/anaconda3/lib/python3.11/site-packages (from jsonpatch<2.0.0,>=1.33.0->langchain_core) (2.1)\n",
      "Requirement already satisfied: ormsgpack>=1.10.0 in /Users/aaronserpilin/anaconda3/lib/python3.11/site-packages (from langgraph-checkpoint<3.0.0,>=2.1.0->langgraph) (1.10.0)\n",
      "Requirement already satisfied: httpx>=0.25.2 in /Users/aaronserpilin/anaconda3/lib/python3.11/site-packages (from langgraph-sdk<0.3.0,>=0.2.2->langgraph) (0.28.1)\n",
      "Requirement already satisfied: orjson>=3.10.1 in /Users/aaronserpilin/anaconda3/lib/python3.11/site-packages (from langgraph-sdk<0.3.0,>=0.2.2->langgraph) (3.11.3)\n",
      "Requirement already satisfied: requests-toolbelt>=1.0.0 in /Users/aaronserpilin/anaconda3/lib/python3.11/site-packages (from langsmith<1.0.0,>=0.3.45->langchain_core) (1.0.0)\n",
      "Requirement already satisfied: requests>=2.0.0 in /Users/aaronserpilin/anaconda3/lib/python3.11/site-packages (from langsmith<1.0.0,>=0.3.45->langchain_core) (2.32.4)\n",
      "Requirement already satisfied: zstandard>=0.23.0 in /Users/aaronserpilin/anaconda3/lib/python3.11/site-packages (from langsmith<1.0.0,>=0.3.45->langchain_core) (0.25.0)\n",
      "Requirement already satisfied: anyio<5,>=3.5.0 in /Users/aaronserpilin/anaconda3/lib/python3.11/site-packages (from openai<3.0.0,>=1.104.2->langchain_openai) (4.11.0)\n",
      "Requirement already satisfied: distro<2,>=1.7.0 in /Users/aaronserpilin/anaconda3/lib/python3.11/site-packages (from openai<3.0.0,>=1.104.2->langchain_openai) (1.9.0)\n",
      "Requirement already satisfied: jiter<1,>=0.4.0 in /Users/aaronserpilin/anaconda3/lib/python3.11/site-packages (from openai<3.0.0,>=1.104.2->langchain_openai) (0.11.0)\n",
      "Requirement already satisfied: sniffio in /Users/aaronserpilin/anaconda3/lib/python3.11/site-packages (from openai<3.0.0,>=1.104.2->langchain_openai) (1.2.0)\n",
      "Requirement already satisfied: tqdm>4 in /Users/aaronserpilin/anaconda3/lib/python3.11/site-packages (from openai<3.0.0,>=1.104.2->langchain_openai) (4.67.1)\n",
      "Requirement already satisfied: annotated-types>=0.6.0 in /Users/aaronserpilin/anaconda3/lib/python3.11/site-packages (from pydantic>=2.7.4->langgraph) (0.7.0)\n",
      "Requirement already satisfied: pydantic-core==2.33.2 in /Users/aaronserpilin/anaconda3/lib/python3.11/site-packages (from pydantic>=2.7.4->langgraph) (2.33.2)\n",
      "Requirement already satisfied: typing-inspection>=0.4.0 in /Users/aaronserpilin/anaconda3/lib/python3.11/site-packages (from pydantic>=2.7.4->langgraph) (0.4.1)\n",
      "Requirement already satisfied: regex>=2022.1.18 in /Users/aaronserpilin/anaconda3/lib/python3.11/site-packages (from tiktoken<1.0.0,>=0.7.0->langchain_openai) (2022.7.9)\n",
      "Requirement already satisfied: idna>=2.8 in /Users/aaronserpilin/anaconda3/lib/python3.11/site-packages (from anyio<5,>=3.5.0->openai<3.0.0,>=1.104.2->langchain_openai) (3.4)\n",
      "Requirement already satisfied: certifi in /Users/aaronserpilin/anaconda3/lib/python3.11/site-packages (from httpx>=0.25.2->langgraph-sdk<0.3.0,>=0.2.2->langgraph) (2025.1.31)\n",
      "Requirement already satisfied: httpcore==1.* in /Users/aaronserpilin/anaconda3/lib/python3.11/site-packages (from httpx>=0.25.2->langgraph-sdk<0.3.0,>=0.2.2->langgraph) (1.0.9)\n",
      "Requirement already satisfied: h11>=0.16 in /Users/aaronserpilin/anaconda3/lib/python3.11/site-packages (from httpcore==1.*->httpx>=0.25.2->langgraph-sdk<0.3.0,>=0.2.2->langgraph) (0.16.0)\n",
      "Requirement already satisfied: charset_normalizer<4,>=2 in /Users/aaronserpilin/anaconda3/lib/python3.11/site-packages (from requests>=2.0.0->langsmith<1.0.0,>=0.3.45->langchain_core) (2.0.4)\n",
      "Requirement already satisfied: urllib3<3,>=1.21.1 in /Users/aaronserpilin/anaconda3/lib/python3.11/site-packages (from requests>=2.0.0->langsmith<1.0.0,>=0.3.45->langchain_core) (1.26.16)\n"
     ]
    }
   ],
   "source": [
    "!pip install langgraph langchain_openai langchain_core"
   ]
  },
  {
   "cell_type": "code",
   "execution_count": 13,
   "id": "1f56329d",
   "metadata": {},
   "outputs": [],
   "source": [
    "import base64\n",
    "from typing import List, TypedDict, Annotated, Optional\n",
    "from langchain_openai import ChatOpenAI\n",
    "from langchain_core.messages import AnyMessage, SystemMessage, HumanMessage\n",
    "from langgraph.graph.message import add_messages\n",
    "from langgraph.graph import START, StateGraph\n",
    "from langgraph.prebuilt import ToolNode, tools_condition\n",
    "from IPython.display import Image, display"
   ]
  },
  {
   "cell_type": "markdown",
   "id": "9d7a2636",
   "metadata": {},
   "source": [
    "## State"
   ]
  },
  {
   "cell_type": "code",
   "execution_count": 14,
   "id": "506753dc",
   "metadata": {},
   "outputs": [],
   "source": [
    "class AgentState(TypedDict):\n",
    "    input_file: Optional[str]\n",
    "    messages: Annotated[list[AnyMessage], add_messages]"
   ]
  },
  {
   "cell_type": "markdown",
   "id": "b792d79f",
   "metadata": {},
   "source": [
    "## Tools"
   ]
  },
  {
   "cell_type": "code",
   "execution_count": 15,
   "id": "120e6bf7",
   "metadata": {},
   "outputs": [],
   "source": [
    "vision_llm = ChatOpenAI(model=\"gpt-4o\")\n",
    "\n",
    "def extract_text(img_path: str) -> str:\n",
    "    \"\"\"\n",
    "    Extract text from an image file using a multimodal model.\n",
    "    \n",
    "    Master Wayne often leaves notes with his training regimen or meal plans.\n",
    "    This allows me to properly analyze the contents.\n",
    "    \"\"\"\n",
    "    all_text = \"\"\n",
    "    try:\n",
    "        # Read image and encode as base64\n",
    "        with open(img_path, \"rb\") as image_file:\n",
    "            image_bytes = image_file.read()\n",
    "\n",
    "        image_base64 = base64.b64encode(image_bytes).decode(\"utf-8\")\n",
    "\n",
    "        # Prepare the prompt including the base64 image data\n",
    "        message = [\n",
    "            HumanMessage(\n",
    "                content=[\n",
    "                    {\n",
    "                        \"type\": \"text\",\n",
    "                        \"text\": (\n",
    "                            \"Extract all the text from this image. \"\n",
    "                            \"Return only the extracted text, no explanations.\"\n",
    "                        ),\n",
    "                    },\n",
    "                    {\n",
    "                        \"type\": \"image_url\",\n",
    "                        \"image_url\": {\n",
    "                            \"url\": f\"data:image/png;base64,{image_base64}\"\n",
    "                        },\n",
    "                    },\n",
    "                ]\n",
    "            )\n",
    "        ]\n",
    "\n",
    "        # Call the vision-capable model\n",
    "        response = vision_llm.invoke(message)\n",
    "\n",
    "        # Append extracted text\n",
    "        all_text += response.content + \"\\n\\n\"\n",
    "\n",
    "        return all_text.strip()\n",
    "    except Exception as e:\n",
    "        # A butler should handle errors gracefully\n",
    "        error_msg = f\"Error extracting text: {str(e)}\"\n",
    "        print(error_msg)\n",
    "        return \"\"\n",
    "\n",
    "def divide(a: int, b: int) -> float:\n",
    "    \"\"\"Divide a and b - for Master Wayne's occasional calculations.\"\"\"\n",
    "    return a / b\n",
    "\n",
    "# Equip the butler with tools\n",
    "tools = [\n",
    "    divide,\n",
    "    extract_text\n",
    "]\n",
    "\n",
    "llm = ChatOpenAI(model=\"gpt-4o\")\n",
    "llm_with_tools = llm.bind_tools(tools, parallel_tool_calls=False)"
   ]
  },
  {
   "cell_type": "markdown",
   "id": "578c8a24",
   "metadata": {},
   "source": [
    "## Nodes"
   ]
  },
  {
   "cell_type": "code",
   "execution_count": 16,
   "id": "42c3d597",
   "metadata": {},
   "outputs": [],
   "source": [
    "def assistant(state: AgentState):\n",
    "    # System message\n",
    "    textual_description_of_tool=\"\"\"\n",
    "extract_text(img_path: str) -> str:\n",
    "    Extract text from an image file using a multimodal model.\n",
    "\n",
    "    Args:\n",
    "        img_path: A local image file path (strings).\n",
    "\n",
    "    Returns:\n",
    "        A single string containing the concatenated text extracted from each image.\n",
    "divide(a: int, b: int) -> float:\n",
    "    Divide a and b\n",
    "\"\"\"\n",
    "    image=state[\"input_file\"]\n",
    "    sys_msg = SystemMessage(content=f\"You are a helpful butler named Alfred that serves Mr. Wayne and Batman. You can analyse documents and run computations with provided tools:\\n{textual_description_of_tool} \\n You have access to some optional images. Currently the loaded image is: {image}\")\n",
    "\n",
    "    return {\n",
    "        \"messages\": [llm_with_tools.invoke([sys_msg] + state[\"messages\"])],\n",
    "        \"input_file\": state[\"input_file\"]\n",
    "    }"
   ]
  },
  {
   "cell_type": "markdown",
   "id": "12283e48",
   "metadata": {},
   "source": [
    "## ReAct Pattern"
   ]
  },
  {
   "cell_type": "code",
   "execution_count": 17,
   "id": "6b304daf",
   "metadata": {},
   "outputs": [
    {
     "data": {
      "image/png": "[encoded data removed]",
      "text/plain": [
       "<IPython.core.display.Image object>"
      ]
     },
     "metadata": {},
     "output_type": "display_data"
    }
   ],
   "source": [
    "# The graph\n",
    "builder = StateGraph(AgentState)\n",
    "\n",
    "# Define nodes: these do the work\n",
    "builder.add_node(\"assistant\", assistant)\n",
    "builder.add_node(\"tools\", ToolNode(tools))\n",
    "\n",
    "# Define edges: these determine how the control flow moves\n",
    "builder.add_edge(START, \"assistant\")\n",
    "builder.add_conditional_edges(\n",
    "    \"assistant\",\n",
    "    # If the latest message requires a tool, route to tools\n",
    "    # Otherwise, provide a direct response\n",
    "    tools_condition,\n",
    ")\n",
    "builder.add_edge(\"tools\", \"assistant\")\n",
    "react_graph = builder.compile()\n",
    "\n",
    "# Show the butler's thought process\n",
    "display(Image(react_graph.get_graph(xray=True).draw_mermaid_png()))"
   ]
  },
  {
   "cell_type": "markdown",
   "id": "6e5accd4",
   "metadata": {},
   "source": [
    "## Action"
   ]
  },
  {
   "cell_type": "code",
   "execution_count": null,
   "id": "42ed4cc0",
   "metadata": {},
   "outputs": [],
   "source": [
    "messages = [HumanMessage(content=\"Divide 6790 by 5\")]\n",
    "messages = react_graph.invoke({\"messages\": messages, \"input_file\": None})\n",
    "\n",
    "for m in messages['messages']:\n",
    "    m.pretty_print()"
   ]
  },
  {
   "cell_type": "code",
   "execution_count": null,
   "id": "a92f6d4d",
   "metadata": {},
   "outputs": [],
   "source": [
    "messages = [HumanMessage(content=\"According to the note provided by Mr. Wayne in the provided images. What's the list of items I should buy for the dinner menu?\")]\n",
    "messages = react_graph.invoke({\"messages\": messages, \"input_file\": \"Batman_training_and_meals.png\"})"
   ]
  },
  {
   "cell_type": "code",
   "execution_count": null,
   "id": "891c16f9",
   "metadata": {},
   "outputs": [],
   "source": [
    "for m in messages['messages']:\n",
    "    m.pretty_print()"
   ]
  }
 ],
 "metadata": {
  "kernelspec": {
   "display_name": "base",
   "language": "python",
   "name": "python3"
  },
  "language_info": {
   "codemirror_mode": {
    "name": "ipython",
    "version": 3
   },
   "file_extension": ".py",
   "mimetype": "text/x-python",
   "name": "python",
   "nbconvert_exporter": "python",
   "pygments_lexer": "ipython3",
   "version": "3.11.4"
  }
 },
 "nbformat": 4,
 "nbformat_minor": 5
}
